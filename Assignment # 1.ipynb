{
 "cells": [
  {
   "cell_type": "code",
   "execution_count": 1,
   "id": "ea0b2ae2",
   "metadata": {},
   "outputs": [
    {
     "name": "stdout",
     "output_type": "stream",
     "text": [
      "90\n"
     ]
    }
   ],
   "source": [
    "var_1 = 40;\n",
    "var_2 = 50;\n",
    "\n",
    "sum = var_1 + var_2\n",
    "\n",
    "print(sum)"
   ]
  },
  {
   "cell_type": "code",
   "execution_count": 9,
   "id": "b28b3e62",
   "metadata": {},
   "outputs": [
    {
     "name": "stdout",
     "output_type": "stream",
     "text": [
      "Amjad Izzah\n"
     ]
    }
   ],
   "source": [
    "first_name = \" Izzah\";\n",
    "last_name = \"Amjad\";\n",
    "\n",
    "reverse_order= last_name + first_name;\n",
    "\n",
    "print(reverse_order)"
   ]
  },
  {
   "cell_type": "code",
   "execution_count": 11,
   "id": "6e8749ea",
   "metadata": {},
   "outputs": [
    {
     "name": "stdout",
     "output_type": "stream",
     "text": [
      "7850.0\n"
     ]
    }
   ],
   "source": [
    "radius_of_circle = 50;\n",
    "\n",
    "area_of_circle = 3.14 * radius_of_circle * radius_of_circle;\n",
    "\n",
    "print(area_of_circle)\n",
    " "
   ]
  },
  {
   "cell_type": "code",
   "execution_count": 1,
   "id": "d1e6da5d",
   "metadata": {},
   "outputs": [
    {
     "name": "stdout",
     "output_type": "stream",
     "text": [
      "30/12/2021\n",
      "9:56PM\n"
     ]
    }
   ],
   "source": [
    "a = \"30\";\n",
    "b = \"/\";\n",
    "c = \"12\";\n",
    "d = \"/\";\n",
    "e = \"2021\";\n",
    "\n",
    "Date = a + b + c + d + e ;\n",
    "\n",
    "f = \"9\";\n",
    "g = \":\";\n",
    "h = \"56\";\n",
    "i = \"PM\";\n",
    "\n",
    "Time = f + g + h + i;\n",
    "\n",
    "print(Date);\n",
    "print(Time)\n",
    "\n"
   ]
  },
  {
   "cell_type": "code",
   "execution_count": 2,
   "id": "7ddd7dee",
   "metadata": {},
   "outputs": [
    {
     "name": "stdout",
     "output_type": "stream",
     "text": [
      "python 3.9.7\n"
     ]
    }
   ],
   "source": [
    "j = \"python\";\n",
    "k = \" 3\";\n",
    "l = \".\";\n",
    "m = \"9\";\n",
    "n = \".\";\n",
    "o = \"7\"\n",
    "\n",
    "python_version= j + k + l + m + n + o;\n",
    "\n",
    "print(python_version)"
   ]
  },
  {
   "cell_type": "code",
   "execution_count": 16,
   "id": "3c563bcc",
   "metadata": {},
   "outputs": [
    {
     "name": "stdout",
     "output_type": "stream",
     "text": [
      "Twinkle,twinkle,little star,\n",
      "       How I wonder what you are!\n",
      "               Up above the world so high,\n",
      "               Like a diamond in the sky.\n",
      "Twinkle,twinkle,little star,\n",
      "       How I wonder what you are!\n"
     ]
    }
   ],
   "source": [
    "var1 = \"Twinkle\";\n",
    "var2 = \",\";\n",
    "var3 = \"twinkle\";\n",
    "var4 = \",\";\n",
    "var5 = \"little star,\";\n",
    "\n",
    "line_1 = var1 + var2 + var3 + var4 + var5;\n",
    "print(line_1)\n",
    "\n",
    "var6 = \"       How\";\n",
    "var7 = \" I\";\n",
    "var8 = \" wonder\";\n",
    "var9 = \" what\";\n",
    "var10 = \" you\";\n",
    "var11 = \" are!\";\n",
    "\n",
    "line_2 = var6 + var7 + var8 + var9 + var10 + var11;\n",
    "print(line_2)\n",
    "\n",
    "var12 = \"               Up\";\n",
    "var13 = \" above\";\n",
    "var14 = \" the\";\n",
    "var15 = \" world\";\n",
    "var16 = \" so\";\n",
    "var17 = \" high,\";\n",
    "\n",
    "line_3 = var12 + var13 + var14 + var15 + var16 + var17;\n",
    "print(line_3)\n",
    "\n",
    "var18 = \"               Like\";\n",
    "var19 = \" a\";\n",
    "var20 = \" diamond\";\n",
    "var21 = \" in\";\n",
    "var22 = \" the\";\n",
    "var23 = \" sky.\";\n",
    "\n",
    "line_4 = var18 + var19 + var20 + var21 + var22 + var23;\n",
    "print(line_4)\n",
    "\n",
    "var24 = \"Twinkle\";\n",
    "var25 = \",\";\n",
    "var26 = \"twinkle\";\n",
    "var27 = \",\";\n",
    "var28 = \"little star,\";\n",
    "\n",
    "line_5 = var24 + var25 + var26 + var27 + var28;\n",
    "print(line_5)\n",
    "\n",
    "var29 = \"       How\";\n",
    "var30 = \" I\";\n",
    "var31 = \" wonder\";\n",
    "var32 = \" what\";\n",
    "var33 = \" you\";\n",
    "var34 = \" are!\";\n",
    "\n",
    "line_6 = var29 + var30 + var31 + var32 + var33 + var34;\n",
    "print(line_6)\n",
    "\n",
    "\n"
   ]
  },
  {
   "cell_type": "code",
   "execution_count": null,
   "id": "cfef6f60",
   "metadata": {},
   "outputs": [],
   "source": []
  }
 ],
 "metadata": {
  "kernelspec": {
   "display_name": "Python 3 (ipykernel)",
   "language": "python",
   "name": "python3"
  },
  "language_info": {
   "codemirror_mode": {
    "name": "ipython",
    "version": 3
   },
   "file_extension": ".py",
   "mimetype": "text/x-python",
   "name": "python",
   "nbconvert_exporter": "python",
   "pygments_lexer": "ipython3",
   "version": "3.9.7"
  }
 },
 "nbformat": 4,
 "nbformat_minor": 5
}
